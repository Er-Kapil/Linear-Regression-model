{
 "cells": [
  {
   "cell_type": "markdown",
   "id": "92c03b5c",
   "metadata": {},
   "source": [
    "Linear Regression:\n",
    "\n",
    "<b> Y = wX + b </b>\n",
    "\n",
    "Y -->  Dependent variable  \n",
    "X --> Independent variable  \n",
    "w --> weight  \n",
    "b --> bias\n",
    "\n",
    "\n",
    "<b>Gradient Descent</b>\n",
    "\n",
    "Gradient Descent is an optimizing algorithm used for minimizing the loss function in various machine learning algorithms.It is used for updating the parameters of the learning model\n",
    "\n",
    "w = w - a*dw  \n",
    "b = b - a*db\n",
    "\n",
    "<b>Learning rate</b>\n",
    "\n",
    "Learning rate is a tuning parameter in an optimization algorithm that determines the step size at each iteration while moving toward a minimum of a loss function."
   ]
  },
  {
   "cell_type": "code",
   "execution_count": 31,
   "id": "71b2635c",
   "metadata": {},
   "outputs": [],
   "source": [
    "#importing the numpy library\n",
    "import numpy as np"
   ]
  },
  {
   "cell_type": "markdown",
   "id": "230f94f7",
   "metadata": {},
   "source": [
    "**Linear Regression**"
   ]
  },
  {
   "cell_type": "code",
   "execution_count": 3,
   "id": "0af64305",
   "metadata": {},
   "outputs": [],
   "source": [
    "class Linear_Regression:\n",
    "    # Initiating the parameters(learning rate and the epochs)\n",
    "    def __init__(self,learning_rate,epochs):\n",
    "        self.learning_rate=learning_rate\n",
    "        self.epochs=epochs\n",
    "\n",
    "\n",
    "    def fit(self,X,Y):\n",
    "        # Number of training examples & number of features\n",
    "\n",
    "        self.m,self.n=X.shape #Number of rows and columns\n",
    "        # initiating the weight and bias of our model\n",
    "\n",
    "        self.w=np.zeros(self.n)\n",
    "        self.b=0\n",
    "        self.X=X\n",
    "        self.Y=Y\n",
    "\n",
    "        # Implementing gradient descend\n",
    "\n",
    "        for i in range(self.epochs):\n",
    "            self.update_weights()\n",
    "\n",
    "    def update_weights(self):\n",
    "        Y_prediction = self.predict(self.X)\n",
    "\n",
    "        # calculate gradient\n",
    "        dw = -(2*(self.X.T).dot(self.Y - Y_prediction))/self.m\n",
    "        db = -2*np.sum(self.Y -Y_prediction)/self.m\n",
    "\n",
    "        # Updating the weights\n",
    "        self.w=self.w -self.learning_rate*dw\n",
    "        self.b=self.b - self.learning_rate*db\n",
    "\n",
    "    def predict(self,X):\n",
    "        return X.dot(self.w) + self.b\n",
    "        \n"
   ]
  },
  {
   "cell_type": "markdown",
   "id": "4534fab9",
   "metadata": {},
   "source": [
    "## **Workflow of the linear regression model**\n",
    "**Step 1:** Set learning rates and the number of iterations. Initiate random weights and values  \n",
    "**Step 2:** Build the linear regression equation . (Y = wX + b)  \n",
    "**Step 3:** Find the \"Y pred\" value for given x value for the corressponding weights and biases  \n",
    "**Step 4:** Check the loss function for these parameter values  \n",
    "**Step 5:** Update the parameter values using gradient descent  \n",
    "**Step 6:** Step 3,4,5 are repeated till we get a minimum loss function  \n",
    "\n",
    "Finally we will get the best model (best weight and bias) as it has minimum loss function"
   ]
  },
  {
   "cell_type": "markdown",
   "id": "d05574b3",
   "metadata": {},
   "source": [
    "Using the linear regression model for prediction"
   ]
  },
  {
   "cell_type": "code",
   "execution_count": 33,
   "id": "419c4e71",
   "metadata": {},
   "outputs": [],
   "source": [
    "# importing the dependencies\n",
    "import pandas as pd\n",
    "from sklearn.model_selection import train_test_split\n",
    "import matplotlib.pyplot as plt"
   ]
  },
  {
   "cell_type": "markdown",
   "id": "ecde9156",
   "metadata": {},
   "source": [
    "Data Pre processing"
   ]
  },
  {
   "cell_type": "code",
   "execution_count": 34,
   "id": "95dc41ac",
   "metadata": {},
   "outputs": [],
   "source": [
    "# Loding the data from a csv file to a pandas dataframe\n",
    "salary_data = pd.read_csv('salary_data.csv')"
   ]
  },
  {
   "cell_type": "code",
   "execution_count": 35,
   "id": "3b2b7a34",
   "metadata": {},
   "outputs": [
    {
     "data": {
      "text/html": [
       "<div>\n",
       "<style scoped>\n",
       "    .dataframe tbody tr th:only-of-type {\n",
       "        vertical-align: middle;\n",
       "    }\n",
       "\n",
       "    .dataframe tbody tr th {\n",
       "        vertical-align: top;\n",
       "    }\n",
       "\n",
       "    .dataframe thead th {\n",
       "        text-align: right;\n",
       "    }\n",
       "</style>\n",
       "<table border=\"1\" class=\"dataframe\">\n",
       "  <thead>\n",
       "    <tr style=\"text-align: right;\">\n",
       "      <th></th>\n",
       "      <th>YearsExperience</th>\n",
       "      <th>Salary</th>\n",
       "    </tr>\n",
       "  </thead>\n",
       "  <tbody>\n",
       "    <tr>\n",
       "      <th>0</th>\n",
       "      <td>1.1</td>\n",
       "      <td>39343</td>\n",
       "    </tr>\n",
       "    <tr>\n",
       "      <th>1</th>\n",
       "      <td>1.3</td>\n",
       "      <td>46205</td>\n",
       "    </tr>\n",
       "    <tr>\n",
       "      <th>2</th>\n",
       "      <td>1.5</td>\n",
       "      <td>37731</td>\n",
       "    </tr>\n",
       "    <tr>\n",
       "      <th>3</th>\n",
       "      <td>2.0</td>\n",
       "      <td>43525</td>\n",
       "    </tr>\n",
       "    <tr>\n",
       "      <th>4</th>\n",
       "      <td>2.2</td>\n",
       "      <td>39891</td>\n",
       "    </tr>\n",
       "  </tbody>\n",
       "</table>\n",
       "</div>"
      ],
      "text/plain": [
       "   YearsExperience  Salary\n",
       "0              1.1   39343\n",
       "1              1.3   46205\n",
       "2              1.5   37731\n",
       "3              2.0   43525\n",
       "4              2.2   39891"
      ]
     },
     "execution_count": 35,
     "metadata": {},
     "output_type": "execute_result"
    }
   ],
   "source": [
    "# printing the first 5 columns in the dataframe\n",
    "salary_data.head()"
   ]
  },
  {
   "cell_type": "code",
   "execution_count": 36,
   "id": "581d5d3a",
   "metadata": {},
   "outputs": [
    {
     "data": {
      "text/plain": [
       "(30, 2)"
      ]
     },
     "execution_count": 36,
     "metadata": {},
     "output_type": "execute_result"
    }
   ],
   "source": [
    "# print the number of rows and cols in the dataframe\n",
    "salary_data.shape"
   ]
  },
  {
   "cell_type": "code",
   "execution_count": 37,
   "id": "bc53709a",
   "metadata": {},
   "outputs": [
    {
     "data": {
      "text/plain": [
       "YearsExperience    0\n",
       "Salary             0\n",
       "dtype: int64"
      ]
     },
     "execution_count": 37,
     "metadata": {},
     "output_type": "execute_result"
    }
   ],
   "source": [
    "# checking for missing values\n",
    "salary_data.isnull().sum()"
   ]
  },
  {
   "cell_type": "code",
   "execution_count": 38,
   "id": "fa51e1d1",
   "metadata": {},
   "outputs": [],
   "source": [
    "# splitting the feature and target\n",
    "X = salary_data.iloc[:,:-1].values\n",
    "Y=salary_data.iloc[:,1].values"
   ]
  },
  {
   "cell_type": "code",
   "execution_count": 39,
   "id": "3141d9ee",
   "metadata": {},
   "outputs": [
    {
     "name": "stdout",
     "output_type": "stream",
     "text": [
      "[[ 1.1]\n",
      " [ 1.3]\n",
      " [ 1.5]\n",
      " [ 2. ]\n",
      " [ 2.2]\n",
      " [ 2.9]\n",
      " [ 3. ]\n",
      " [ 3.2]\n",
      " [ 3.2]\n",
      " [ 3.7]\n",
      " [ 3.9]\n",
      " [ 4. ]\n",
      " [ 4. ]\n",
      " [ 4.1]\n",
      " [ 4.5]\n",
      " [ 4.9]\n",
      " [ 5.1]\n",
      " [ 5.3]\n",
      " [ 5.9]\n",
      " [ 6. ]\n",
      " [ 6.8]\n",
      " [ 7.1]\n",
      " [ 7.9]\n",
      " [ 8.2]\n",
      " [ 8.7]\n",
      " [ 9. ]\n",
      " [ 9.5]\n",
      " [ 9.6]\n",
      " [10.3]\n",
      " [10.5]]\n",
      "[ 39343  46205  37731  43525  39891  56642  60150  54445  64445  57189\n",
      "  63218  55794  56957  57081  61111  67938  66029  83088  81363  93940\n",
      "  91738  98273 101302 113812 109431 105582 116969 112635 122391 121872]\n"
     ]
    }
   ],
   "source": [
    "print(X)\n",
    "print(Y)"
   ]
  },
  {
   "cell_type": "markdown",
   "id": "469aa710",
   "metadata": {},
   "source": [
    "Splitting the data into training data and test data"
   ]
  },
  {
   "cell_type": "code",
   "execution_count": 40,
   "id": "b0e842b5",
   "metadata": {},
   "outputs": [],
   "source": [
    "X_train,X_test,Y_train,Y_test = train_test_split(X,Y,test_size=0.33,random_state=2)"
   ]
  },
  {
   "cell_type": "markdown",
   "id": "b64a1799",
   "metadata": {},
   "source": [
    "Training the linear regression model"
   ]
  },
  {
   "cell_type": "code",
   "execution_count": 70,
   "id": "3c6638a2",
   "metadata": {},
   "outputs": [],
   "source": [
    "model = Linear_Regression(learning_rate=0.02,epochs=1000)"
   ]
  },
  {
   "cell_type": "code",
   "execution_count": 71,
   "id": "e810646e",
   "metadata": {},
   "outputs": [],
   "source": [
    "model.fit(X_train,Y_train)"
   ]
  },
  {
   "cell_type": "code",
   "execution_count": 72,
   "id": "18bbfbd3",
   "metadata": {},
   "outputs": [
    {
     "name": "stdout",
     "output_type": "stream",
     "text": [
      "weight =  9514.400999035135\n",
      "biases =  23697.406507136307\n"
     ]
    }
   ],
   "source": [
    "# printing the parameter values (weights and biases)\n",
    "print('weight = ',model.w[0])\n",
    "print('biases = ',model.b)"
   ]
  },
  {
   "cell_type": "markdown",
   "id": "04963a9d",
   "metadata": {},
   "source": [
    "Predict the salary value for test data"
   ]
  },
  {
   "cell_type": "code",
   "execution_count": 73,
   "id": "4f203cf5",
   "metadata": {},
   "outputs": [],
   "source": [
    "test_data_prediction = model.predict(X_test)"
   ]
  },
  {
   "cell_type": "markdown",
   "id": "f1221154",
   "metadata": {},
   "source": []
  },
  {
   "cell_type": "code",
   "execution_count": 74,
   "id": "72c71c7d",
   "metadata": {},
   "outputs": [
    {
     "name": "stdout",
     "output_type": "stream",
     "text": [
      "[[1.3]\n",
      " [1.1]\n",
      " [4.5]\n",
      " [3.7]\n",
      " [7.1]\n",
      " [6. ]\n",
      " [8.2]\n",
      " [3. ]\n",
      " [2. ]\n",
      " [6.8]]\n"
     ]
    }
   ],
   "source": [
    "print(X_test)"
   ]
  },
  {
   "cell_type": "markdown",
   "id": "74c43e8e",
   "metadata": {},
   "source": [
    "Visualizing the predicted values and the actual values"
   ]
  },
  {
   "cell_type": "code",
   "execution_count": 75,
   "id": "dc8b6f27",
   "metadata": {},
   "outputs": [
    {
     "data": {
      "text/plain": [
       "Text(0.5, 1.0, ' Salary vs Work experience')"
      ]
     },
     "execution_count": 75,
     "metadata": {},
     "output_type": "execute_result"
    },
    {
     "data": {
      "image/png": "[encoded data removed]",
      "text/plain": [
       "<Figure size 640x480 with 1 Axes>"
      ]
     },
     "metadata": {},
     "output_type": "display_data"
    }
   ],
   "source": [
    "plt.scatter(X_test,Y_test,color='red')\n",
    "plt.plot(X_test,test_data_prediction,color='blue')\n",
    "plt.xlabel(\"Work experience\")\n",
    "plt.ylabel(\"Salary\")\n",
    "plt.title(\" Salary vs Work experience\")"
   ]
  }
 ],
 "metadata": {
  "kernelspec": {
   "display_name": "kaps (venv)",
   "language": "python",
   "name": "venv"
  },
  "language_info": {
   "codemirror_mode": {
    "name": "ipython",
    "version": 3
   },
   "file_extension": ".py",
   "mimetype": "text/x-python",
   "name": "python",
   "nbconvert_exporter": "python",
   "pygments_lexer": "ipython3",
   "version": "3.13.1"
  }
 },
 "nbformat": 4,
 "nbformat_minor": 5
}
