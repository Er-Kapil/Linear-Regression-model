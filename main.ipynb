{
 "cells": [],
 "metadata": {
  "kernelspec": {
   "display_name": "kaps (venv)",
   "language": "python",
   "name": "venv"
  },
  "language_info": {
   "name": "python",
   "version": "3.13.1"
  }
 },
 "nbformat": 4,
 "nbformat_minor": 5
}
