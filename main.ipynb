{
 "cells": [
  {
   "cell_type": "markdown",
   "id": "92c03b5c",
   "metadata": {},
   "source": [
    "Linear Regression:\n",
    "\n",
    "<b> Y = wX + b </b>\n",
    "\n",
    "Y -->  Dependent variable  \n",
    "X --> Independent variable  \n",
    "w --> weight  \n",
    "b --> bias\n",
    "\n",
    "\n",
    "<b>Gradient Descent</b>\n",
    "\n",
    "Gradient Descent is an optimizing algorithm used for minimizing the loss function in various machine learning algorithms.It is used for updating the parameters of the learning model\n",
    "\n",
    "w = w - a*dw  \n",
    "b = b - a*db\n",
    "\n",
    "<b>Learning rate</b>\n",
    "\n",
    "Learning rate is a tuning parameter in an optimization algorithm that determines the step size at each iteration while moving toward a minimum of a loss function."
   ]
  },
  {
   "cell_type": "code",
   "execution_count": 1,
   "id": "16f9a81b",
   "metadata": {},
   "outputs": [
    {
     "name": "stdout",
     "output_type": "stream",
     "text": [
      "Collecting numpy\n",
      "  Downloading numpy-2.3.2-cp313-cp313-win_amd64.whl.metadata (60 kB)\n",
      "Downloading numpy-2.3.2-cp313-cp313-win_amd64.whl (12.8 MB)\n",
      "   ---------------------------------------- 0.0/12.8 MB ? eta -:--:--\n",
      "    --------------------------------------- 0.3/12.8 MB ? eta -:--:--\n",
      "   - -------------------------------------- 0.5/12.8 MB 1.4 MB/s eta 0:00:09\n",
      "   -- ------------------------------------- 0.8/12.8 MB 1.5 MB/s eta 0:00:08\n",
      "   --- ------------------------------------ 1.0/12.8 MB 1.7 MB/s eta 0:00:08\n",
      "   ---- ----------------------------------- 1.6/12.8 MB 1.6 MB/s eta 0:00:07\n",
      "   ----- ---------------------------------- 1.8/12.8 MB 1.7 MB/s eta 0:00:07\n",
      "   ------ --------------------------------- 2.1/12.8 MB 1.6 MB/s eta 0:00:07\n",
      "   -------- ------------------------------- 2.6/12.8 MB 1.7 MB/s eta 0:00:07\n",
      "   ---------- ----------------------------- 3.4/12.8 MB 1.9 MB/s eta 0:00:05\n",
      "   ---------- ----------------------------- 3.4/12.8 MB 1.9 MB/s eta 0:00:05\n",
      "   ----------- ---------------------------- 3.7/12.8 MB 1.8 MB/s eta 0:00:06\n",
      "   ------------- -------------------------- 4.2/12.8 MB 1.7 MB/s eta 0:00:05\n",
      "   -------------- ------------------------- 4.7/12.8 MB 1.8 MB/s eta 0:00:05\n",
      "   ---------------- ----------------------- 5.2/12.8 MB 1.9 MB/s eta 0:00:05\n",
      "   ------------------ --------------------- 6.0/12.8 MB 2.0 MB/s eta 0:00:04\n",
      "   ---------------------- ----------------- 7.1/12.8 MB 2.2 MB/s eta 0:00:03\n",
      "   ------------------------- -------------- 8.1/12.8 MB 2.4 MB/s eta 0:00:02\n",
      "   --------------------------- ------------ 8.9/12.8 MB 2.5 MB/s eta 0:00:02\n",
      "   ------------------------------ --------- 9.7/12.8 MB 2.6 MB/s eta 0:00:02\n",
      "   ------------------------------- -------- 10.0/12.8 MB 2.5 MB/s eta 0:00:02\n",
      "   --------------------------------- ------ 10.7/12.8 MB 2.6 MB/s eta 0:00:01\n",
      "   ----------------------------------- ---- 11.3/12.8 MB 2.5 MB/s eta 0:00:01\n",
      "   -------------------------------------- - 12.3/12.8 MB 2.7 MB/s eta 0:00:01\n",
      "   ---------------------------------------- 12.8/12.8 MB 2.7 MB/s eta 0:00:00\n",
      "Installing collected packages: numpy\n",
      "Successfully installed numpy-2.3.2\n"
     ]
    },
    {
     "name": "stderr",
     "output_type": "stream",
     "text": [
      "\n",
      "[notice] A new release of pip is available: 24.3.1 -> 25.2\n",
      "[notice] To update, run: python.exe -m pip install --upgrade pip\n"
     ]
    }
   ],
   "source": [
    "!pip install numpy"
   ]
  },
  {
   "cell_type": "code",
   "execution_count": 2,
   "id": "71b2635c",
   "metadata": {},
   "outputs": [],
   "source": [
    "#importing the numpy library\n",
    "import numpy as np"
   ]
  },
  {
   "cell_type": "markdown",
   "id": "230f94f7",
   "metadata": {},
   "source": [
    "**Linear Regression**"
   ]
  },
  {
   "cell_type": "code",
   "execution_count": 3,
   "id": "0af64305",
   "metadata": {},
   "outputs": [],
   "source": [
    "class Linear_Regression:\n",
    "    # Initiating the parameters(learning rate and the epochs)\n",
    "    def __init__(self,learning_rate,epochs):\n",
    "        self.learning_rate=learning_rate\n",
    "        self.epochs=epochs\n",
    "\n",
    "\n",
    "    def fit(self,X,Y):\n",
    "        # Number of training examples & number of features\n",
    "\n",
    "        self.m,self.n=X.shape #Number of rows and columns\n",
    "        # initiating the weight and bias of our model\n",
    "\n",
    "        self.w=np.zeros(self.n)\n",
    "        self.b=0\n",
    "        self.X=X\n",
    "        self.Y=Y\n",
    "\n",
    "        # Implementing gradient descend\n",
    "\n",
    "        for i in range(self.epochs):\n",
    "            self.update_weights()\n",
    "\n",
    "    def update_weights(self):\n",
    "        Y_prediction = self.predict(self.X)\n",
    "\n",
    "        # calculate gradient\n",
    "        dw = -(2*(self.X.T).dot(self.Y - Y_prediction))/self.m\n",
    "        db = -2*np.sum(self.Y -Y_prediction)/self.m\n",
    "\n",
    "        # Updating the weights\n",
    "        self.w=self.w -self.learning_rate*dw\n",
    "        self.b=self.b - self.learning_rate*db\n",
    "\n",
    "    def predict(self,X):\n",
    "        return X.dot(self.w) + self.b\n",
    "        \n"
   ]
  }
 ],
 "metadata": {
  "kernelspec": {
   "display_name": "kaps (venv)",
   "language": "python",
   "name": "venv"
  },
  "language_info": {
   "codemirror_mode": {
    "name": "ipython",
    "version": 3
   },
   "file_extension": ".py",
   "mimetype": "text/x-python",
   "name": "python",
   "nbconvert_exporter": "python",
   "pygments_lexer": "ipython3",
   "version": "3.13.1"
  }
 },
 "nbformat": 4,
 "nbformat_minor": 5
}
